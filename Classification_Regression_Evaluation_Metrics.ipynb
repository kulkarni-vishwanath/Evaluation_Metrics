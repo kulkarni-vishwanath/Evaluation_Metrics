{
 "cells": [
  {
   "cell_type": "markdown",
   "metadata": {},
   "source": [
    "## Classification Metrics"
   ]
  },
  {
   "cell_type": "code",
   "execution_count": 111,
   "metadata": {},
   "outputs": [],
   "source": [
    "import pandas as pd\n",
    "import numpy as np\n",
    "import matplotlib.pyplot as plt\n",
    "from sklearn.preprocessing import LabelEncoder\n",
    "from sklearn.model_selection import train_test_split\n",
    "from sklearn import metrics\n",
    "from sklearn.metrics import roc_auc_score,roc_curve,auc\n",
    "from sklearn.ensemble import RandomForestClassifier,RandomForestRegressor\n",
    "import scikitplot as skplt"
   ]
  },
  {
   "cell_type": "markdown",
   "metadata": {},
   "source": [
    "### Importing Data"
   ]
  },
  {
   "cell_type": "code",
   "execution_count": 112,
   "metadata": {},
   "outputs": [],
   "source": [
    "train_data_classification = pd.read_csv(r\"I:/AV_Hackathon_Codes/GuidedHackathon/Train_eP48B9k.csv\")\n",
    "test_data_classification = pd.read_csv(r\"I:/AV_Hackathon_Codes/GuidedHackathon/Test_jPKyvmK.csv\")"
   ]
  },
  {
   "cell_type": "markdown",
   "metadata": {},
   "source": [
    "### Label Encoding"
   ]
  },
  {
   "cell_type": "code",
   "execution_count": 113,
   "metadata": {},
   "outputs": [],
   "source": [
    "le = LabelEncoder()\n",
    "for col in train_data_classification:\n",
    "    if train_data_classification[col].dtype == \"object\":\n",
    "        train_data_classification[col] = le.fit_transform(train_data_classification[col])\n",
    "        test_data_classification[col] = le.fit_transform(test_data_classification[col])"
   ]
  },
  {
   "cell_type": "markdown",
   "metadata": {},
   "source": [
    "### Dropping Columns with NA's"
   ]
  },
  {
   "cell_type": "code",
   "execution_count": 114,
   "metadata": {},
   "outputs": [],
   "source": [
    "train_data_classification.drop(['id','customer_age','balance','last_contact_duration','num_contacts_in_campaign','days_since_prev_campaign_contact'],axis=1,inplace=True)\n",
    "test_data_classification.drop(['id','customer_age','balance','last_contact_duration','num_contacts_in_campaign','days_since_prev_campaign_contact'],axis=1,inplace=True)"
   ]
  },
  {
   "cell_type": "markdown",
   "metadata": {},
   "source": [
    "### Splitting Data "
   ]
  },
  {
   "cell_type": "code",
   "execution_count": 115,
   "metadata": {},
   "outputs": [
    {
     "name": "stdout",
     "output_type": "stream",
     "text": [
      "(23735, 11)\n",
      "(23735,)\n",
      "(7912, 11)\n",
      "(7912,)\n"
     ]
    }
   ],
   "source": [
    "y = train_data_classification['term_deposit_subscribed']\n",
    "X = train_data_classification.drop('term_deposit_subscribed',axis=1)\n",
    "\n",
    "X_Train,X_Test,y_Train,y_Test = train_test_split(X,y,test_size=0.25,stratify=y,random_state=42)\n",
    "print (X_Train.shape)\n",
    "print (y_Train.shape)\n",
    "print (X_Test.shape)\n",
    "print (y_Test.shape)"
   ]
  },
  {
   "cell_type": "markdown",
   "metadata": {},
   "source": [
    "### Running RF Model"
   ]
  },
  {
   "cell_type": "code",
   "execution_count": 116,
   "metadata": {},
   "outputs": [],
   "source": [
    "rf = RandomForestClassifier()\n",
    "rf.fit(X_Train,y_Train)\n",
    "predict = rf.predict(X_Test)"
   ]
  },
  {
   "cell_type": "markdown",
   "metadata": {},
   "source": [
    "### Confusion Matrix"
   ]
  },
  {
   "cell_type": "code",
   "execution_count": 117,
   "metadata": {},
   "outputs": [
    {
     "data": {
      "text/plain": [
       "<sklearn.metrics._plot.confusion_matrix.ConfusionMatrixDisplay at 0x24c1055b088>"
      ]
     },
     "execution_count": 117,
     "metadata": {},
     "output_type": "execute_result"
    },
    {
     "data": {
      "image/png": "[encoded data removed]",
      "text/plain": [
       "<Figure size 432x288 with 2 Axes>"
      ]
     },
     "metadata": {
      "needs_background": "light"
     },
     "output_type": "display_data"
    }
   ],
   "source": [
    "confusion_mat = metrics.confusion_matrix(y_Test,predict)\n",
    "disp = metrics.ConfusionMatrixDisplay(confusion_matrix=confusion_mat,display_labels=rf.classes_)\n",
    "disp.plot()"
   ]
  },
  {
   "cell_type": "markdown",
   "metadata": {},
   "source": [
    "### Acuracy Score"
   ]
  },
  {
   "cell_type": "code",
   "execution_count": 118,
   "metadata": {},
   "outputs": [
    {
     "name": "stdout",
     "output_type": "stream",
     "text": [
      "0.8914307381193124\n",
      "0.8914307381193124\n"
     ]
    }
   ],
   "source": [
    "# calculating the values of confusion matrix\n",
    "tn, fp, fn, tp = metrics.confusion_matrix(y_Test, predict).ravel()\n",
    "\n",
    "# accuracy score using sklearn function\n",
    "accuracy_using_sklearn = metrics.accuracy_score(y_Test,predict)\n",
    "print (accuracy_using_sklearn)\n",
    "\n",
    "# accuracy score using the formula\n",
    "accuracy_score_using_formula = (tp+tn)/(tp+tn+fp+fn)\n",
    "print (accuracy_score_using_formula)"
   ]
  },
  {
   "cell_type": "markdown",
   "metadata": {},
   "source": [
    "### Error / Misclassification Rate"
   ]
  },
  {
   "cell_type": "code",
   "execution_count": 119,
   "metadata": {},
   "outputs": [
    {
     "name": "stdout",
     "output_type": "stream",
     "text": [
      "0.10856926188068756\n",
      "0.1085692618806876\n"
     ]
    }
   ],
   "source": [
    "# error rate using the formula \n",
    "error_rate_using_formula = (fp+fn)/(tp+tn+fp+fn)\n",
    "print (error_rate_using_formula)\n",
    "\n",
    "# error rate using sklearn accuracy score\n",
    "error_rate_using_sklearn = 1-metrics.accuracy_score(y_Test,predict)\n",
    "print (error_rate_using_sklearn)"
   ]
  },
  {
   "cell_type": "markdown",
   "metadata": {},
   "source": [
    "### Sensitivity / True Positive Rate / Recall"
   ]
  },
  {
   "cell_type": "code",
   "execution_count": 120,
   "metadata": {},
   "outputs": [
    {
     "name": "stdout",
     "output_type": "stream",
     "text": [
      "0.26030624263839813\n",
      "0.26030624263839813\n"
     ]
    }
   ],
   "source": [
    "# sensitivity using the formula \n",
    "sensitivity_using_formula = (tp)/(tp+fn)\n",
    "print (sensitivity_using_formula)\n",
    "\n",
    "# sensitivity using sklearn function\n",
    "sensitivity_using_sklearn = metrics.recall_score(y_Test,predict)\n",
    "print (sensitivity_using_sklearn)"
   ]
  },
  {
   "cell_type": "markdown",
   "metadata": {},
   "source": [
    "### False Positive Rate"
   ]
  },
  {
   "cell_type": "code",
   "execution_count": 121,
   "metadata": {},
   "outputs": [
    {
     "name": "stdout",
     "output_type": "stream",
     "text": [
      "0.03270564915758176\n"
     ]
    }
   ],
   "source": [
    "# False Positive Rate using formula\n",
    "FPR_using_formula = (fp) / (fp+tn)\n",
    "print (FPR_using_formula)"
   ]
  },
  {
   "cell_type": "markdown",
   "metadata": {},
   "source": [
    "### True Negative Rate / Specificity"
   ]
  },
  {
   "cell_type": "code",
   "execution_count": 122,
   "metadata": {
    "scrolled": true
   },
   "outputs": [
    {
     "name": "stdout",
     "output_type": "stream",
     "text": [
      "0.9672943508424182\n"
     ]
    }
   ],
   "source": [
    "# specificity using formula\n",
    "Specificity_using_formula = (tn) / (tn+fp)\n",
    "print (Specificity_using_formula)"
   ]
  },
  {
   "cell_type": "markdown",
   "metadata": {},
   "source": [
    "### Precision"
   ]
  },
  {
   "cell_type": "code",
   "execution_count": 123,
   "metadata": {},
   "outputs": [
    {
     "name": "stdout",
     "output_type": "stream",
     "text": [
      "0.4889380530973451\n",
      "0.4889380530973451\n"
     ]
    }
   ],
   "source": [
    "# Precision using formula\n",
    "Precision_using_formula = (tp) / (tp+fp)\n",
    "print (Precision_using_formula)\n",
    "\n",
    "# precision using sklearn function\n",
    "Precision_using_sklearn = metrics.precision_score(y_Test,predict)\n",
    "print (Precision_using_sklearn)"
   ]
  },
  {
   "cell_type": "markdown",
   "metadata": {},
   "source": [
    "### F Beta Score / F1 Score"
   ]
  },
  {
   "cell_type": "code",
   "execution_count": 124,
   "metadata": {},
   "outputs": [
    {
     "name": "stdout",
     "output_type": "stream",
     "text": [
      "0.33973866256725593\n",
      "0.33973866256725593\n"
     ]
    }
   ],
   "source": [
    "# F Beta Score\n",
    "F_Beta_Score = metrics.fbeta_score(y_Test,predict,beta=1)\n",
    "print (F_Beta_Score)\n",
    "\n",
    "# F1 Score\n",
    "F1_Score = metrics.f1_score(y_Test,predict)\n",
    "print (F1_Score)\n",
    "\n",
    "# Note that F Beta and F1 scores are same because we choose Beta as 1 while calculating F Beta Score."
   ]
  },
  {
   "cell_type": "markdown",
   "metadata": {},
   "source": [
    "### Log Loss"
   ]
  },
  {
   "cell_type": "code",
   "execution_count": 125,
   "metadata": {},
   "outputs": [
    {
     "name": "stdout",
     "output_type": "stream",
     "text": [
      "0.6962678256177632\n"
     ]
    }
   ],
   "source": [
    "# Log Loss\n",
    "log_loss = metrics.log_loss(y_Test,rf.predict_proba(X_Test)[:,1])\n",
    "print (log_loss)"
   ]
  },
  {
   "cell_type": "markdown",
   "metadata": {},
   "source": [
    "### ROC Curve / Area under the ROC curve"
   ]
  },
  {
   "cell_type": "code",
   "execution_count": 126,
   "metadata": {},
   "outputs": [
    {
     "data": {
      "text/plain": [
       "Text(0.5, 0, 'False positive rate')"
      ]
     },
     "execution_count": 126,
     "metadata": {},
     "output_type": "execute_result"
    },
    {
     "data": {
      "image/png": "[encoded data removed]",
      "text/plain": [
       "<Figure size 432x288 with 1 Axes>"
      ]
     },
     "metadata": {
      "needs_background": "light"
     },
     "output_type": "display_data"
    }
   ],
   "source": [
    "# plotting the ROC curve\n",
    "frp,trp, threshold = roc_curve(y_Test,rf.predict_proba(X_Test)[:,1])\n",
    "roc_auc_ = auc(frp,trp)\n",
    "plt.title('Reciever Operating Characteristics Curve')\n",
    "plt.plot(frp,trp,'r',label = 'AUC = %0.3f' % roc_auc_)\n",
    "plt.legend(loc='lower right')\n",
    "plt.plot([0,1],[0,1],'b--')\n",
    "plt.ylabel('True positive rate')\n",
    "plt.xlabel('False positive rate')"
   ]
  },
  {
   "cell_type": "markdown",
   "metadata": {},
   "source": [
    "### Area under the ROC Curve"
   ]
  },
  {
   "cell_type": "code",
   "execution_count": 127,
   "metadata": {},
   "outputs": [
    {
     "name": "stdout",
     "output_type": "stream",
     "text": [
      "0.7612202778059887\n"
     ]
    }
   ],
   "source": [
    "# area under roc curve\n",
    "area_under_roc_curve = metrics.auc(frp,trp)\n",
    "print (area_under_roc_curve)"
   ]
  },
  {
   "cell_type": "code",
   "execution_count": null,
   "metadata": {},
   "outputs": [],
   "source": []
  },
  {
   "cell_type": "code",
   "execution_count": null,
   "metadata": {},
   "outputs": [],
   "source": []
  },
  {
   "cell_type": "code",
   "execution_count": null,
   "metadata": {},
   "outputs": [],
   "source": []
  },
  {
   "cell_type": "markdown",
   "metadata": {},
   "source": [
    "## Regression Metrics"
   ]
  },
  {
   "cell_type": "markdown",
   "metadata": {},
   "source": [
    "### Importing Data "
   ]
  },
  {
   "cell_type": "code",
   "execution_count": 128,
   "metadata": {},
   "outputs": [],
   "source": [
    "train_data_regression = pd.read_csv(r\"C:/Users/kulka/Downloads/train_v9rqX0R.csv\")\n",
    "test_data_regression = pd.read_csv(r\"C:\\Users\\kulka\\Downloads\\test_AbJTz2l.csv\")"
   ]
  },
  {
   "cell_type": "markdown",
   "metadata": {},
   "source": [
    "### Label Encoding"
   ]
  },
  {
   "cell_type": "code",
   "execution_count": 129,
   "metadata": {},
   "outputs": [],
   "source": [
    "le = LabelEncoder()\n",
    "for col in train_data_regression:\n",
    "    if train_data_regression[col].dtype == \"object\":\n",
    "        train_data_regression[col] = le.fit_transform(train_data_regression[col])\n",
    "        test_data_regression[col] = le.fit_transform(test_data_regression[col])"
   ]
  },
  {
   "cell_type": "markdown",
   "metadata": {},
   "source": [
    "### Dropping columns with NA's and ID Variable"
   ]
  },
  {
   "cell_type": "code",
   "execution_count": 130,
   "metadata": {},
   "outputs": [],
   "source": [
    "train_data_regression.drop(['Item_Weight','Item_Identifier'],axis=1,inplace=True)\n",
    "test_data_regression.drop(['Item_Weight','Item_Identifier'],axis=1,inplace=True)"
   ]
  },
  {
   "cell_type": "markdown",
   "metadata": {},
   "source": [
    "### Splitting Data"
   ]
  },
  {
   "cell_type": "code",
   "execution_count": 131,
   "metadata": {},
   "outputs": [
    {
     "name": "stdout",
     "output_type": "stream",
     "text": [
      "(6392, 9)\n",
      "(6392,)\n",
      "(2131, 9)\n",
      "(2131,)\n"
     ]
    }
   ],
   "source": [
    "y = train_data_regression['Item_Outlet_Sales']\n",
    "X = train_data_regression.drop('Item_Outlet_Sales',axis=1)\n",
    "\n",
    "X_Trn,X_Tst,y_Trn,y_Tst = train_test_split(X,y,test_size=0.25,random_state=42)\n",
    "print (X_Trn.shape)\n",
    "print (y_Trn.shape)\n",
    "print (X_Tst.shape)\n",
    "print (y_Tst.shape)"
   ]
  },
  {
   "cell_type": "markdown",
   "metadata": {},
   "source": [
    "### Running RF Model"
   ]
  },
  {
   "cell_type": "code",
   "execution_count": 132,
   "metadata": {},
   "outputs": [],
   "source": [
    "rf = RandomForestRegressor()\n",
    "rf.fit(X_Trn,y_Trn)\n",
    "predict = rf.predict(X_Tst)"
   ]
  },
  {
   "cell_type": "markdown",
   "metadata": {},
   "source": [
    "### Mean Absolute Error"
   ]
  },
  {
   "cell_type": "code",
   "execution_count": 133,
   "metadata": {},
   "outputs": [
    {
     "name": "stdout",
     "output_type": "stream",
     "text": [
      "765.519449841389\n"
     ]
    }
   ],
   "source": [
    "mae = metrics.mean_absolute_error(y_Tst,predict)\n",
    "print (mae)"
   ]
  },
  {
   "cell_type": "markdown",
   "metadata": {},
   "source": [
    "### Mean Squared Error"
   ]
  },
  {
   "cell_type": "code",
   "execution_count": 134,
   "metadata": {},
   "outputs": [
    {
     "name": "stdout",
     "output_type": "stream",
     "text": [
      "1215441.0131967554\n"
     ]
    }
   ],
   "source": [
    "mse = metrics.mean_squared_error(y_Tst,predict)\n",
    "print (mse)"
   ]
  },
  {
   "cell_type": "markdown",
   "metadata": {},
   "source": [
    "### Root Mean Squared Error"
   ]
  },
  {
   "cell_type": "code",
   "execution_count": 135,
   "metadata": {},
   "outputs": [
    {
     "name": "stdout",
     "output_type": "stream",
     "text": [
      "1102.470413751206\n"
     ]
    }
   ],
   "source": [
    "rmse = np.sqrt(metrics.mean_squared_error(y_Tst,predict))\n",
    "print (rmse)"
   ]
  },
  {
   "cell_type": "markdown",
   "metadata": {},
   "source": [
    "### Root Mean Squared Log Error"
   ]
  },
  {
   "cell_type": "code",
   "execution_count": 136,
   "metadata": {},
   "outputs": [
    {
     "name": "stdout",
     "output_type": "stream",
     "text": [
      "(6392, 9)\n",
      "(6392,)\n",
      "(2131, 9)\n",
      "(2131,)\n"
     ]
    }
   ],
   "source": [
    "y_log = np.log1p(train_data_regression['Item_Outlet_Sales'])\n",
    "X_log = train_data_regression.drop('Item_Outlet_Sales',axis=1)\n",
    "\n",
    "X_Train,X_Test,y_Train,y_Test = train_test_split(X_log,y_log,test_size=0.25,random_state=42)\n",
    "print (X_Train.shape)\n",
    "print (y_Train.shape)\n",
    "print (X_Test.shape)\n",
    "print (y_Test.shape)\n",
    "\n",
    "rf = RandomForestRegressor()\n",
    "rf.fit(X_Train,y_Train)\n",
    "predict_log = rf.predict(X_Test)"
   ]
  },
  {
   "cell_type": "code",
   "execution_count": 137,
   "metadata": {},
   "outputs": [
    {
     "name": "stdout",
     "output_type": "stream",
     "text": [
      "0.547026746219191\n"
     ]
    }
   ],
   "source": [
    "rmsle = np.sqrt(metrics.mean_squared_error(y_Test,predict_log))\n",
    "print (rmsle)"
   ]
  },
  {
   "cell_type": "markdown",
   "metadata": {},
   "source": [
    "### MAPE"
   ]
  },
  {
   "cell_type": "code",
   "execution_count": 139,
   "metadata": {},
   "outputs": [
    {
     "name": "stdout",
     "output_type": "stream",
     "text": [
      "0.5840389713269469\n"
     ]
    }
   ],
   "source": [
    "mape = metrics.mean_absolute_percentage_error(y_Tst,predict)\n",
    "print (mape)"
   ]
  },
  {
   "cell_type": "markdown",
   "metadata": {},
   "source": [
    "### R Squared"
   ]
  },
  {
   "cell_type": "code",
   "execution_count": 140,
   "metadata": {},
   "outputs": [
    {
     "name": "stdout",
     "output_type": "stream",
     "text": [
      "0.5594595799797204\n"
     ]
    }
   ],
   "source": [
    "r_squared = metrics.r2_score(y_Tst,predict)\n",
    "print (r_squared)"
   ]
  },
  {
   "cell_type": "markdown",
   "metadata": {},
   "source": [
    "### Adjusted R Squared"
   ]
  },
  {
   "cell_type": "code",
   "execution_count": 147,
   "metadata": {},
   "outputs": [],
   "source": [
    "len_dataset = len(X_Tst)\n",
    "r2 = r_squared\n",
    "p = len(X_Tst.columns)"
   ]
  },
  {
   "cell_type": "code",
   "execution_count": 148,
   "metadata": {},
   "outputs": [
    {
     "name": "stdout",
     "output_type": "stream",
     "text": [
      "0.5575902429782199\n"
     ]
    }
   ],
   "source": [
    "adjusted_r_squared = 1 - (((1-r2)*(len_dataset-1))/(len_dataset-p-1))\n",
    "print (adjusted_r_squared)"
   ]
  }
 ],
 "metadata": {
  "kernelspec": {
   "display_name": "Python 3",
   "language": "python",
   "name": "python3"
  },
  "language_info": {
   "codemirror_mode": {
    "name": "ipython",
    "version": 3
   },
   "file_extension": ".py",
   "mimetype": "text/x-python",
   "name": "python",
   "nbconvert_exporter": "python",
   "pygments_lexer": "ipython3",
   "version": "3.7.6"
  }
 },
 "nbformat": 4,
 "nbformat_minor": 4
}
